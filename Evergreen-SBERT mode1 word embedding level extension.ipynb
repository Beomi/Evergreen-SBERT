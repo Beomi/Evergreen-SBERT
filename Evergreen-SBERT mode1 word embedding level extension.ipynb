{
 "cells": [
  {
   "cell_type": "markdown",
   "metadata": {},
   "source": [
    "# pip installs"
   ]
  },
  {
   "cell_type": "code",
   "execution_count": 1,
   "metadata": {},
   "outputs": [],
   "source": [
    "# !pip install -q -U git+https://github.com/UKPLab/sentence-transformers\n",
    "# !pip install -q -U tensorflow # solve pipeline import issue on transformers ~= 4.6.1\n",
    "# !pip install -q -U transformers soynlp emoji"
   ]
  },
  {
   "cell_type": "markdown",
   "metadata": {},
   "source": [
    "# import things"
   ]
  },
  {
   "cell_type": "code",
   "execution_count": 2,
   "metadata": {},
   "outputs": [
    {
     "data": {
      "text/plain": [
       "'1.8.1+cu111'"
      ]
     },
     "execution_count": 2,
     "metadata": {},
     "output_type": "execute_result"
    }
   ],
   "source": [
    "from transformers import AutoModelForMaskedLM, AutoTokenizer, BertTokenizer\n",
    "from transformers import FillMaskPipeline\n",
    "import requests\n",
    "import pandas as pd\n",
    "import torch\n",
    "from glob import glob\n",
    "import json\n",
    "\n",
    "torch.__version__"
   ]
  },
  {
   "cell_type": "markdown",
   "metadata": {},
   "source": [
    "# Tweet collect & clean"
   ]
  },
  {
   "cell_type": "code",
   "execution_count": 3,
   "metadata": {},
   "outputs": [],
   "source": [
    "import re\n",
    "import emoji\n",
    "from soynlp.normalizer import repeat_normalize\n",
    "\n",
    "emojis = ''.join(emoji.UNICODE_EMOJI.keys())\n",
    "pattern = re.compile(f'[^ .,?!/@$%~％·∼()\\x00-\\x7Fㄱ-ㅣ가-힣{emojis}]+')\n",
    "url_pattern = re.compile(\n",
    "    r'https?:\\/\\/(www\\.)?[-a-zA-Z0-9@:%._\\+~#=]{1,256}\\.[a-zA-Z0-9()]{1,6}\\b([-a-zA-Z0-9()@:%_\\+.~#?&//=]*)')\n",
    "rt_pattern = re.compile(r'@.+')\n",
    "\n",
    "def clean(x):\n",
    "    x = pattern.sub(' ', x)\n",
    "    x = url_pattern.sub('', x)\n",
    "    x = rt_pattern.sub('', x)\n",
    "    if x.startswith('RT'):\n",
    "        x = x[2:]\n",
    "    x = x.strip()\n",
    "    x = repeat_normalize(x, num_repeats=2)\n",
    "    return x"
   ]
  },
  {
   "cell_type": "code",
   "execution_count": 4,
   "metadata": {},
   "outputs": [],
   "source": [
    "def get_tweets(q='오드트유'):\n",
    "    pat = re.compile(q)\n",
    "    \n",
    "    if files := [i for i in glob('./data/*/*.json') if q in i]:\n",
    "        res = []\n",
    "        for i in files:\n",
    "            res += json.load(open(i))\n",
    "        original = [k for k in {clean(i) for i in res} if len(pat.findall(k)) == 1 and len(k) > 20]\n",
    "        masked = [k.replace(q, '[MASK]') for k in original]\n",
    "        return {\n",
    "            'original': original,\n",
    "            'masked': masked,\n",
    "        }\n",
    "    else:\n",
    "        r = requests.get('https://api.twitter.com/1.1/search/tweets.json', headers={\n",
    "            'Authorization': 'TwitterTOKEN',\n",
    "        }, params={\n",
    "            'q': f'\"{q}\"',\n",
    "            'count': 100,\n",
    "            'include_entities': False,\n",
    "        })\n",
    "        original = [k for k in {clean(i['text']) for i in r.json()['statuses']} if len(pat.findall(k)) == 1 and len(k) > 20]\n",
    "        masked = [k.replace(q, '[MASK]') for k in original]\n",
    "        return {\n",
    "            'original': original,\n",
    "            'masked': masked\n",
    "        }"
   ]
  },
  {
   "cell_type": "markdown",
   "metadata": {},
   "source": [
    "# Build EvergreenBERT Model"
   ]
  },
  {
   "cell_type": "code",
   "execution_count": 5,
   "metadata": {},
   "outputs": [],
   "source": [
    "def get_orignal_model(base_model='beomi/kcbert-base'):\n",
    "    tokenizer = AutoTokenizer.from_pretrained(base_model)\n",
    "    model = AutoModelForMaskedLM.from_pretrained(base_model)\n",
    "    model.eval()\n",
    "    return tokenizer, model"
   ]
  },
  {
   "cell_type": "code",
   "execution_count": 6,
   "metadata": {},
   "outputs": [],
   "source": [
    "def create_evergreen_bert(base_model='beomi/kcbert-base', added_tokens=['오드트유', '오드투유']):\n",
    "    tokenizer = AutoTokenizer.from_pretrained(base_model)\n",
    "    model = AutoModelForMaskedLM.from_pretrained(base_model)\n",
    "    model.eval()\n",
    "    pipeline = FillMaskPipeline(model, tokenizer, top_k=10)\n",
    "    \n",
    "    def get_usable_logits(x):\n",
    "        usable_logits = []\n",
    "        for i in x:\n",
    "            if i['token_str'].startswith('##'):\n",
    "                continue\n",
    "            if len(i['token_str']) < 2:\n",
    "                continue\n",
    "            usable_logits.append(i)\n",
    "        return usable_logits\n",
    "    \n",
    "    # Vocab별 Vector 추출 from PLM\n",
    "    added_vocab_embs = {}\n",
    "    for added_token in added_tokens:\n",
    "        masked_tweets = get_tweets(added_token)['masked']\n",
    "        tweet_size = len(masked_tweets)\n",
    "        \n",
    "        mask_predictions = pipeline(masked_tweets)\n",
    "        dfs = []\n",
    "        for i in mask_predictions: # 각 Sentence별 Mask후 Inference\n",
    "            df = pd.DataFrame(get_usable_logits(i))\n",
    "            if len(df):\n",
    "                sum_score = df['score'].sum()\n",
    "                df['score'] = df['score'].map(lambda x: x/sum_score)\n",
    "                dfs.append(df)\n",
    "        df_all = pd.concat(dfs)\n",
    "\n",
    "        def get_non_contextualized_embeding(df_all, tweet_size):\n",
    "            embs = df_all.apply(lambda x: model.bert.embeddings.word_embeddings.weight[x['token']] * x['score'], axis=1)\n",
    "            return embs.sum() / tweet_size\n",
    "\n",
    "        added_vocab_embs[added_token] = get_non_contextualized_embeding(df_all, tweet_size).detach()\n",
    "    \n",
    "    evergreen_tokenizer = AutoTokenizer.from_pretrained(base_model)\n",
    "    evergreen_model = AutoModelForMaskedLM.from_pretrained(base_model)\n",
    "    evergreen_tokenizer.add_tokens(added_tokens)\n",
    "    evergreen_model.resize_token_embeddings(len(evergreen_tokenizer))\n",
    "    \n",
    "    tokenizer_length = len(tokenizer)\n",
    "    vocabs = evergreen_tokenizer.vocab.keys()\n",
    "    for idx, added_token in enumerate(added_tokens):\n",
    "        if added_token in vocabs:\n",
    "            continue\n",
    "        with torch.no_grad():\n",
    "            evergreen_model.bert.embeddings.word_embeddings.weight[tokenizer_length+idx] = added_vocab_embs[added_token]\n",
    "    \n",
    "    return evergreen_tokenizer, evergreen_model"
   ]
  },
  {
   "cell_type": "code",
   "execution_count": 7,
   "metadata": {
    "scrolled": true
   },
   "outputs": [
    {
     "data": {
      "text/plain": [
       "['일어낫다',\n",
       " '원더케이',\n",
       " '강다니엘',\n",
       " '자이언츠',\n",
       " '프리허그',\n",
       " '기립박수',\n",
       " '스물두번째생일',\n",
       " '자컾연성',\n",
       " '대면팬싸',\n",
       " '사운드트랙',\n",
       " '젠더퀴어',\n",
       " '취향겹침표',\n",
       " '전과목A',\n",
       " '생일너무너무',\n",
       " '자빱사단',\n",
       " '뉴스원샷',\n",
       " '이글읽고난다음',\n",
       " '배경화면',\n",
       " '로또사서',\n",
       " '박지훈X',\n",
       " '수련언니',\n",
       " '안경에이스',\n",
       " '뮤직뱅크',\n",
       " '기습공격',\n",
       " '경멸하나',\n",
       " '무사만루',\n",
       " '판타블렛',\n",
       " '느낌표느낌표',\n",
       " '딥상어동',\n",
       " '생일해시',\n",
       " '철인3종경기',\n",
       " '라플라스',\n",
       " '불우이웃',\n",
       " '수지서현',\n",
       " '물고기들',\n",
       " '군수송기',\n",
       " '총공총공',\n",
       " '푸른비늘',\n",
       " '쫀아에용',\n",
       " '동물농장',\n",
       " '투르크메니스탄',\n",
       " '안무영상',\n",
       " '맛집여행',\n",
       " '헤럴드POP',\n",
       " '반달모양',\n",
       " '시스젠더',\n",
       " '취업준비',\n",
       " '제이굿즈',\n",
       " '아쿠아리움',\n",
       " '섬온화님',\n",
       " '디저트39',\n",
       " '신규확진',\n",
       " '전공공부',\n",
       " '연습영상',\n",
       " '연성문장',\n",
       " '불로장생',\n",
       " '헬로헬로',\n",
       " '아웃카운트',\n",
       " '파트분배',\n",
       " '아이돌등판',\n",
       " '모닝커피',\n",
       " '드레이코',\n",
       " '경멸신한',\n",
       " '스타뉴스',\n",
       " '페인킬러',\n",
       " '셀카듀스',\n",
       " '사법연수원',\n",
       " '심야영화',\n",
       " '기레기들',\n",
       " '다크몬스터',\n",
       " '감방생활',\n",
       " '바다동물',\n",
       " '펜트하우스',\n",
       " '로드스터',\n",
       " '북극바다',\n",
       " '자빱티비',\n",
       " '개인그림',\n",
       " '가정했을때']"
      ]
     },
     "execution_count": 7,
     "metadata": {},
     "output_type": "execute_result"
    }
   ],
   "source": [
    "new_vocabs = list({\n",
    "    i.split('/')[-1].split()[0].replace('.json', '') \n",
    "    for i in glob('./data/*/*.json') if len(i.split('/')[-1].split()) == 1\n",
    "})\n",
    "new_vocabs"
   ]
  },
  {
   "cell_type": "code",
   "execution_count": 8,
   "metadata": {},
   "outputs": [
    {
     "name": "stderr",
     "output_type": "stream",
     "text": [
      "Some weights of the model checkpoint at beomi/kcbert-base were not used when initializing BertForMaskedLM: ['cls.seq_relationship.weight', 'cls.seq_relationship.bias']\n",
      "- This IS expected if you are initializing BertForMaskedLM from the checkpoint of a model trained on another task or with another architecture (e.g. initializing a BertForSequenceClassification model from a BertForPreTraining model).\n",
      "- This IS NOT expected if you are initializing BertForMaskedLM from the checkpoint of a model that you expect to be exactly identical (initializing a BertForSequenceClassification model from a BertForSequenceClassification model).\n",
      "Some weights of the model checkpoint at beomi/kcbert-base were not used when initializing BertForMaskedLM: ['cls.seq_relationship.weight', 'cls.seq_relationship.bias']\n",
      "- This IS expected if you are initializing BertForMaskedLM from the checkpoint of a model trained on another task or with another architecture (e.g. initializing a BertForSequenceClassification model from a BertForPreTraining model).\n",
      "- This IS NOT expected if you are initializing BertForMaskedLM from the checkpoint of a model that you expect to be exactly identical (initializing a BertForSequenceClassification model from a BertForSequenceClassification model).\n"
     ]
    }
   ],
   "source": [
    "ev_t, ev_m = create_evergreen_bert(added_tokens=new_vocabs)"
   ]
  },
  {
   "cell_type": "code",
   "execution_count": 9,
   "metadata": {},
   "outputs": [],
   "source": [
    "!mkdir EvergreenBERT_word"
   ]
  },
  {
   "cell_type": "code",
   "execution_count": 10,
   "metadata": {},
   "outputs": [],
   "source": [
    "ev_t.save_pretrained('./EvergreenBERT_word')\n",
    "ev_m.save_pretrained('./EvergreenBERT_word')"
   ]
  },
  {
   "cell_type": "markdown",
   "metadata": {},
   "source": [
    "# Convert EvergreenBERT to Evergreen-SBERT"
   ]
  },
  {
   "cell_type": "code",
   "execution_count": 11,
   "metadata": {},
   "outputs": [],
   "source": [
    "from sentence_transformers import SentenceTransformer, models"
   ]
  },
  {
   "cell_type": "markdown",
   "metadata": {},
   "source": [
    "## Pretrained MLM Pooling"
   ]
  },
  {
   "cell_type": "code",
   "execution_count": 12,
   "metadata": {},
   "outputs": [],
   "source": [
    "kcbert_sbert = SentenceTransformer('beomi/kcbert-base')"
   ]
  },
  {
   "cell_type": "markdown",
   "metadata": {},
   "source": [
    "## EvergreenBERT MLM Pooling"
   ]
  },
  {
   "cell_type": "code",
   "execution_count": 13,
   "metadata": {},
   "outputs": [
    {
     "name": "stderr",
     "output_type": "stream",
     "text": [
      "Some weights of the model checkpoint at ./EvergreenBERT_word were not used when initializing BertModel: ['cls.predictions.decoder.bias', 'cls.predictions.bias', 'cls.predictions.transform.dense.bias', 'cls.predictions.transform.LayerNorm.bias', 'cls.predictions.transform.dense.weight', 'cls.predictions.transform.LayerNorm.weight', 'cls.predictions.decoder.weight']\n",
      "- This IS expected if you are initializing BertModel from the checkpoint of a model trained on another task or with another architecture (e.g. initializing a BertForSequenceClassification model from a BertForPreTraining model).\n",
      "- This IS NOT expected if you are initializing BertModel from the checkpoint of a model that you expect to be exactly identical (initializing a BertForSequenceClassification model from a BertForSequenceClassification model).\n",
      "Some weights of BertModel were not initialized from the model checkpoint at ./EvergreenBERT_word and are newly initialized: ['bert.pooler.dense.weight', 'bert.pooler.dense.bias']\n",
      "You should probably TRAIN this model on a down-stream task to be able to use it for predictions and inference.\n"
     ]
    }
   ],
   "source": [
    "evergreen_sbert_transformers = models.Transformer('./EvergreenBERT_word')\n",
    "evergreen_sbert_pooling = models.Pooling(evergreen_sbert_transformers.get_word_embedding_dimension())\n",
    "\n",
    "evergreen_sbert = SentenceTransformer(modules=[evergreen_sbert_transformers, evergreen_sbert_pooling])"
   ]
  },
  {
   "cell_type": "markdown",
   "metadata": {},
   "source": [
    "# SBERT Encode\n",
    "\n",
    "- 새로운 Vocab이 아닌 기존의 vocab만 사용하는 문장의 경우, 동일한 Representation을 뱉는다.\n",
    "- 새로운 Vocab (ex: 펜트하우스)이 포함된 문장의 경우, 다른 Representation이 나온다."
   ]
  },
  {
   "cell_type": "code",
   "execution_count": 14,
   "metadata": {
    "scrolled": true
   },
   "outputs": [
    {
     "data": {
      "text/plain": [
       "array([ True,  True,  True,  True,  True,  True,  True,  True,  True,\n",
       "        True,  True,  True,  True,  True,  True,  True,  True,  True,\n",
       "        True,  True,  True,  True,  True,  True,  True,  True,  True,\n",
       "        True,  True,  True,  True,  True,  True,  True,  True,  True,\n",
       "        True,  True,  True,  True,  True,  True,  True,  True,  True,\n",
       "        True,  True,  True,  True,  True,  True,  True,  True,  True,\n",
       "        True,  True,  True,  True,  True,  True,  True,  True,  True,\n",
       "        True,  True,  True,  True,  True,  True,  True,  True,  True,\n",
       "        True,  True,  True,  True,  True,  True,  True,  True,  True,\n",
       "        True,  True,  True,  True,  True,  True,  True,  True,  True,\n",
       "        True,  True,  True,  True,  True,  True,  True,  True,  True,\n",
       "        True,  True,  True,  True,  True,  True,  True,  True,  True,\n",
       "        True,  True,  True,  True,  True,  True,  True,  True,  True,\n",
       "        True,  True,  True,  True,  True,  True,  True,  True,  True,\n",
       "        True,  True,  True,  True,  True,  True,  True,  True,  True,\n",
       "        True,  True,  True,  True,  True,  True,  True,  True,  True,\n",
       "        True,  True,  True,  True,  True,  True,  True,  True,  True,\n",
       "        True,  True,  True,  True,  True,  True,  True,  True,  True,\n",
       "        True,  True,  True,  True,  True,  True,  True,  True,  True,\n",
       "        True,  True,  True,  True,  True,  True,  True,  True,  True,\n",
       "        True,  True,  True,  True,  True,  True,  True,  True,  True,\n",
       "        True,  True,  True,  True,  True,  True,  True,  True,  True,\n",
       "        True,  True,  True,  True,  True,  True,  True,  True,  True,\n",
       "        True,  True,  True,  True,  True,  True,  True,  True,  True,\n",
       "        True,  True,  True,  True,  True,  True,  True,  True,  True,\n",
       "        True,  True,  True,  True,  True,  True,  True,  True,  True,\n",
       "        True,  True,  True,  True,  True,  True,  True,  True,  True,\n",
       "        True,  True,  True,  True,  True,  True,  True,  True,  True,\n",
       "        True,  True,  True,  True,  True,  True,  True,  True,  True,\n",
       "        True,  True,  True,  True,  True,  True,  True,  True,  True,\n",
       "        True,  True,  True,  True,  True,  True,  True,  True,  True,\n",
       "        True,  True,  True,  True,  True,  True,  True,  True,  True,\n",
       "        True,  True,  True,  True,  True,  True,  True,  True,  True,\n",
       "        True,  True,  True,  True,  True,  True,  True,  True,  True,\n",
       "        True,  True,  True,  True,  True,  True,  True,  True,  True,\n",
       "        True,  True,  True,  True,  True,  True,  True,  True,  True,\n",
       "        True,  True,  True,  True,  True,  True,  True,  True,  True,\n",
       "        True,  True,  True,  True,  True,  True,  True,  True,  True,\n",
       "        True,  True,  True,  True,  True,  True,  True,  True,  True,\n",
       "        True,  True,  True,  True,  True,  True,  True,  True,  True,\n",
       "        True,  True,  True,  True,  True,  True,  True,  True,  True,\n",
       "        True,  True,  True,  True,  True,  True,  True,  True,  True,\n",
       "        True,  True,  True,  True,  True,  True,  True,  True,  True,\n",
       "        True,  True,  True,  True,  True,  True,  True,  True,  True,\n",
       "        True,  True,  True,  True,  True,  True,  True,  True,  True,\n",
       "        True,  True,  True,  True,  True,  True,  True,  True,  True,\n",
       "        True,  True,  True,  True,  True,  True,  True,  True,  True,\n",
       "        True,  True,  True,  True,  True,  True,  True,  True,  True,\n",
       "        True,  True,  True,  True,  True,  True,  True,  True,  True,\n",
       "        True,  True,  True,  True,  True,  True,  True,  True,  True,\n",
       "        True,  True,  True,  True,  True,  True,  True,  True,  True,\n",
       "        True,  True,  True,  True,  True,  True,  True,  True,  True,\n",
       "        True,  True,  True,  True,  True,  True,  True,  True,  True,\n",
       "        True,  True,  True,  True,  True,  True,  True,  True,  True,\n",
       "        True,  True,  True,  True,  True,  True,  True,  True,  True,\n",
       "        True,  True,  True,  True,  True,  True,  True,  True,  True,\n",
       "        True,  True,  True,  True,  True,  True,  True,  True,  True,\n",
       "        True,  True,  True,  True,  True,  True,  True,  True,  True,\n",
       "        True,  True,  True,  True,  True,  True,  True,  True,  True,\n",
       "        True,  True,  True,  True,  True,  True,  True,  True,  True,\n",
       "        True,  True,  True,  True,  True,  True,  True,  True,  True,\n",
       "        True,  True,  True,  True,  True,  True,  True,  True,  True,\n",
       "        True,  True,  True,  True,  True,  True,  True,  True,  True,\n",
       "        True,  True,  True,  True,  True,  True,  True,  True,  True,\n",
       "        True,  True,  True,  True,  True,  True,  True,  True,  True,\n",
       "        True,  True,  True,  True,  True,  True,  True,  True,  True,\n",
       "        True,  True,  True,  True,  True,  True,  True,  True,  True,\n",
       "        True,  True,  True,  True,  True,  True,  True,  True,  True,\n",
       "        True,  True,  True,  True,  True,  True,  True,  True,  True,\n",
       "        True,  True,  True,  True,  True,  True,  True,  True,  True,\n",
       "        True,  True,  True,  True,  True,  True,  True,  True,  True,\n",
       "        True,  True,  True,  True,  True,  True,  True,  True,  True,\n",
       "        True,  True,  True,  True,  True,  True,  True,  True,  True,\n",
       "        True,  True,  True,  True,  True,  True,  True,  True,  True,\n",
       "        True,  True,  True,  True,  True,  True,  True,  True,  True,\n",
       "        True,  True,  True,  True,  True,  True,  True,  True,  True,\n",
       "        True,  True,  True,  True,  True,  True,  True,  True,  True,\n",
       "        True,  True,  True,  True,  True,  True,  True,  True,  True,\n",
       "        True,  True,  True,  True,  True,  True,  True,  True,  True,\n",
       "        True,  True,  True,  True,  True,  True,  True,  True,  True,\n",
       "        True,  True,  True,  True,  True,  True,  True,  True,  True,\n",
       "        True,  True,  True,  True,  True,  True,  True,  True,  True,\n",
       "        True,  True,  True,  True,  True,  True,  True,  True,  True,\n",
       "        True,  True,  True,  True,  True,  True,  True,  True,  True,\n",
       "        True,  True,  True,  True,  True,  True,  True,  True,  True,\n",
       "        True,  True,  True])"
      ]
     },
     "execution_count": 14,
     "metadata": {},
     "output_type": "execute_result"
    }
   ],
   "source": [
    "kcbert_sbert.encode(\"안녕하세요, 반가워요.\") == evergreen_sbert.encode(\"안녕하세요, 반가워요.\")"
   ]
  },
  {
   "cell_type": "code",
   "execution_count": 15,
   "metadata": {
    "scrolled": true
   },
   "outputs": [
    {
     "data": {
      "text/plain": [
       "array([False, False, False, False, False, False, False, False, False,\n",
       "       False, False, False, False, False, False, False, False, False,\n",
       "       False, False, False, False, False, False, False, False, False,\n",
       "       False, False, False, False, False, False, False, False, False,\n",
       "       False, False, False, False, False, False, False, False, False,\n",
       "       False, False, False, False, False, False, False, False, False,\n",
       "       False, False, False, False, False, False, False, False, False,\n",
       "       False, False, False, False, False, False, False, False, False,\n",
       "       False, False, False, False, False, False, False, False, False,\n",
       "       False, False, False, False, False, False, False, False, False,\n",
       "       False, False, False, False, False, False, False, False, False,\n",
       "       False, False, False, False, False, False, False, False, False,\n",
       "       False, False, False, False, False, False, False, False, False,\n",
       "       False, False, False, False, False, False, False, False, False,\n",
       "       False, False, False, False, False, False, False, False, False,\n",
       "       False, False, False, False, False, False, False, False, False,\n",
       "       False, False, False, False, False, False, False, False, False,\n",
       "       False, False, False, False, False, False, False, False, False,\n",
       "       False, False, False, False, False, False, False, False, False,\n",
       "       False, False, False, False, False, False, False, False, False,\n",
       "       False, False, False, False, False, False, False, False, False,\n",
       "       False, False, False, False, False, False, False, False, False,\n",
       "       False, False, False, False, False, False, False, False, False,\n",
       "       False, False, False, False, False, False, False, False, False,\n",
       "       False, False, False, False, False, False, False, False, False,\n",
       "       False, False, False, False, False, False, False, False, False,\n",
       "       False, False, False, False, False, False, False, False, False,\n",
       "       False, False, False, False, False, False, False, False, False,\n",
       "       False, False, False, False, False, False, False, False, False,\n",
       "       False, False, False, False, False, False, False, False, False,\n",
       "       False, False, False, False, False, False, False, False, False,\n",
       "       False, False, False, False, False, False, False, False, False,\n",
       "       False, False, False, False, False, False, False, False, False,\n",
       "       False, False, False, False, False, False, False, False, False,\n",
       "       False, False, False, False, False, False, False, False, False,\n",
       "       False, False, False, False, False, False, False, False, False,\n",
       "       False, False, False, False, False, False, False, False, False,\n",
       "       False, False, False, False, False, False, False, False, False,\n",
       "       False, False, False, False, False, False, False, False, False,\n",
       "       False, False, False, False, False, False, False, False, False,\n",
       "       False, False, False, False, False, False, False, False, False,\n",
       "       False, False, False, False, False, False, False, False, False,\n",
       "       False, False, False, False, False, False, False, False, False,\n",
       "       False, False, False, False, False, False, False, False, False,\n",
       "       False, False, False, False, False, False, False, False, False,\n",
       "       False, False, False, False, False, False, False, False, False,\n",
       "       False, False, False, False, False, False, False, False, False,\n",
       "       False, False, False, False, False, False, False, False, False,\n",
       "       False, False, False, False, False, False, False, False, False,\n",
       "       False, False, False, False, False, False, False, False, False,\n",
       "       False, False, False, False, False, False, False, False, False,\n",
       "       False, False, False, False, False, False, False, False, False,\n",
       "       False, False, False, False, False, False, False, False, False,\n",
       "       False, False, False, False, False, False, False, False, False,\n",
       "       False, False, False, False, False, False, False, False, False,\n",
       "       False, False, False, False, False, False, False, False, False,\n",
       "       False, False, False, False, False, False, False, False, False,\n",
       "       False, False, False, False, False, False, False, False, False,\n",
       "       False, False, False, False, False, False, False, False, False,\n",
       "       False, False, False, False, False, False, False, False, False,\n",
       "       False, False, False, False, False, False, False, False, False,\n",
       "       False, False, False, False, False, False, False, False, False,\n",
       "       False, False, False, False, False, False, False, False, False,\n",
       "       False, False, False, False, False, False, False, False, False,\n",
       "       False, False, False, False, False, False, False, False, False,\n",
       "       False, False, False, False, False, False, False, False, False,\n",
       "       False, False, False, False, False, False, False, False, False,\n",
       "       False, False, False, False, False, False, False, False, False,\n",
       "       False, False, False, False, False, False, False, False, False,\n",
       "       False, False, False, False, False, False, False, False, False,\n",
       "       False, False, False, False, False, False, False, False, False,\n",
       "       False, False, False, False, False, False, False, False, False,\n",
       "       False, False, False, False, False, False, False, False, False,\n",
       "       False, False, False, False, False, False, False, False, False,\n",
       "       False, False, False, False, False, False, False, False, False,\n",
       "       False, False, False, False, False, False, False, False, False,\n",
       "       False, False, False, False, False, False, False, False, False,\n",
       "       False, False, False, False, False, False, False, False, False,\n",
       "       False, False, False, False, False, False, False, False, False,\n",
       "       False, False, False, False, False, False, False, False, False,\n",
       "       False, False, False, False, False, False, False, False, False,\n",
       "       False, False, False, False, False, False, False, False, False,\n",
       "       False, False, False, False, False, False, False, False, False,\n",
       "       False, False, False, False, False, False, False, False, False,\n",
       "       False, False, False, False, False, False, False, False, False,\n",
       "       False, False, False])"
      ]
     },
     "execution_count": 15,
     "metadata": {},
     "output_type": "execute_result"
    }
   ],
   "source": [
    "# 새로 추가된 단어: 오드트유\n",
    "kcbert_sbert.encode(\"안녕하세요, 펜트하우스 방송 봅시다.\") == evergreen_sbert.encode(\"안녕하세요, 펜트하우스 방송 봅시다.\")"
   ]
  },
  {
   "cell_type": "markdown",
   "metadata": {},
   "source": [
    "# Evaluate within Crawled dataset\n",
    "\n",
    "- 신조어 자체에 좋은 Representation이 나타나는지 검증하는 것이 어려움\n",
    "- 따라서, 여기서는 신조어 Query로 검색된 유사/동일 Tweet간 Similarity Score를 비교해 본다.\n",
    "- 발견가능한 패턴: 오 #드 #트 #유 로 쪼개지는 경우에 -> 해당 부분으로 인해 더 높은 Cosine Similarity 값이 나온다.\n",
    "- 즉, Sub-word로 쪼개지는 경우 SBERT로 Sentence Represenataion을 할 때 "
   ]
  },
  {
   "cell_type": "code",
   "execution_count": 16,
   "metadata": {},
   "outputs": [],
   "source": [
    "import numpy as np\n",
    "from sklearn.metrics.pairwise import cosine_similarity"
   ]
  },
  {
   "cell_type": "code",
   "execution_count": 17,
   "metadata": {},
   "outputs": [
    {
     "data": {
      "text/plain": [
       "array([[-0.5428092 , -0.9914443 ,  1.250398  , ...,  0.5745559 ,\n",
       "         0.80080956,  0.52963036],\n",
       "       [ 0.6169529 , -0.38929334,  0.42200762, ...,  0.910913  ,\n",
       "         0.00548372,  0.7092602 ],\n",
       "       [ 0.01212531, -1.5130467 ,  1.3017178 , ...,  0.18010984,\n",
       "         0.08382833,  0.41437015]], dtype=float32)"
      ]
     },
     "execution_count": 17,
     "metadata": {},
     "output_type": "execute_result"
    }
   ],
   "source": [
    "kcbert_sbert.encode(['안녕', '반가워',''])"
   ]
  },
  {
   "cell_type": "code",
   "execution_count": 18,
   "metadata": {},
   "outputs": [],
   "source": [
    "def get_multiple_similarity(q1, q2, model):\n",
    "    np.random.seed(42)\n",
    "    if torch.cuda.is_available():\n",
    "        model.cuda()\n",
    "    \n",
    "    q1_tweets = get_tweets(q1)['original']\n",
    "    \n",
    "    if len(q1_tweets) > 20:\n",
    "        q1_tweets = np.random.choice(q1_tweets, 20, replace=False)\n",
    "    if q1 == q2:\n",
    "        q2_tweets = q1_tweets\n",
    "        encoded_q1 = model.encode(q1_tweets)\n",
    "        encoded_q2 = encoded_q1\n",
    "    else:\n",
    "        q2_tweets = get_tweets(q2)['original']\n",
    "        if len(q2_tweets) > 20:\n",
    "            q2_tweets = np.random.choice(q2_tweets, 20, replace=False)\n",
    "        encoded_q1 = model.encode(q1_tweets)\n",
    "        encoded_q2 = model.encode(q2_tweets)\n",
    "    \n",
    "    sims_1 = []\n",
    "    print(len(q1_tweets), len(q2_tweets))\n",
    "    \n",
    "    for i in encoded_q1:\n",
    "        for j in encoded_q2:\n",
    "            if list(i) != list(j):\n",
    "                sims_1.append(cosine_similarity([i], [j])[0][0])\n",
    "    return np.mean(sims_1)"
   ]
  },
  {
   "cell_type": "code",
   "execution_count": 19,
   "metadata": {},
   "outputs": [
    {
     "name": "stdout",
     "output_type": "stream",
     "text": [
      "20 20\n",
      "20 20\n"
     ]
    },
    {
     "data": {
      "text/plain": [
       "(0.60057676, 0.60057676)"
      ]
     },
     "execution_count": 19,
     "metadata": {},
     "output_type": "execute_result"
    }
   ],
   "source": [
    "# Not updated vocab, Same Result\n",
    "get_multiple_similarity('오드트유', '오드트유', evergreen_sbert),\\\n",
    "get_multiple_similarity('오드트유', '오드트유', kcbert_sbert)"
   ]
  },
  {
   "cell_type": "code",
   "execution_count": 20,
   "metadata": {},
   "outputs": [
    {
     "name": "stdout",
     "output_type": "stream",
     "text": [
      "20 20\n",
      "20 20\n"
     ]
    },
    {
     "data": {
      "text/plain": [
       "(0.4350466, 0.55809313)"
      ]
     },
     "execution_count": 20,
     "metadata": {},
     "output_type": "execute_result"
    }
   ],
   "source": [
    "# Updated vocab case, different similairties\n",
    "get_multiple_similarity('펜트하우스', '펜트하우스', evergreen_sbert),\\\n",
    "get_multiple_similarity('펜트하우스', '펜트하우스', kcbert_sbert)"
   ]
  },
  {
   "cell_type": "markdown",
   "metadata": {},
   "source": [
    "# Evaluation"
   ]
  },
  {
   "cell_type": "code",
   "execution_count": 21,
   "metadata": {},
   "outputs": [
    {
     "data": {
      "text/html": [
       "<div>\n",
       "<style scoped>\n",
       "    .dataframe tbody tr th:only-of-type {\n",
       "        vertical-align: middle;\n",
       "    }\n",
       "\n",
       "    .dataframe tbody tr th {\n",
       "        vertical-align: top;\n",
       "    }\n",
       "\n",
       "    .dataframe thead th {\n",
       "        text-align: right;\n",
       "    }\n",
       "</style>\n",
       "<table border=\"1\" class=\"dataframe\">\n",
       "  <thead>\n",
       "    <tr style=\"text-align: right;\">\n",
       "      <th></th>\n",
       "      <th>text</th>\n",
       "    </tr>\n",
       "  </thead>\n",
       "  <tbody>\n",
       "    <tr>\n",
       "      <th>0</th>\n",
       "      <td>일어낫다</td>\n",
       "    </tr>\n",
       "    <tr>\n",
       "      <th>1</th>\n",
       "      <td>원더케이</td>\n",
       "    </tr>\n",
       "    <tr>\n",
       "      <th>2</th>\n",
       "      <td>강다니엘</td>\n",
       "    </tr>\n",
       "    <tr>\n",
       "      <th>3</th>\n",
       "      <td>자이언츠</td>\n",
       "    </tr>\n",
       "    <tr>\n",
       "      <th>4</th>\n",
       "      <td>프리허그</td>\n",
       "    </tr>\n",
       "  </tbody>\n",
       "</table>\n",
       "</div>"
      ],
      "text/plain": [
       "   text\n",
       "0  일어낫다\n",
       "1  원더케이\n",
       "2  강다니엘\n",
       "3  자이언츠\n",
       "4  프리허그"
      ]
     },
     "execution_count": 21,
     "metadata": {},
     "output_type": "execute_result"
    }
   ],
   "source": [
    "df = pd.DataFrame(new_vocabs, columns=['text'])\n",
    "df.head()"
   ]
  },
  {
   "cell_type": "code",
   "execution_count": 22,
   "metadata": {
    "scrolled": true
   },
   "outputs": [
    {
     "name": "stdout",
     "output_type": "stream",
     "text": [
      "20 20\n",
      "20 20\n",
      "20 20\n",
      "20 20\n",
      "20 20\n",
      "20 20\n",
      "20 20\n",
      "16 16\n",
      "20 20\n",
      "20 20\n",
      "20 20\n",
      "20 20\n",
      "10 10\n",
      "20 20\n",
      "20 20\n",
      "20 20\n",
      "20 20\n",
      "20 20\n",
      "20 20\n",
      "20 20\n",
      "20 20\n",
      "20 20\n",
      "20 20\n",
      "20 20\n",
      "20 20\n",
      "20 20\n",
      "20 20\n",
      "20 20\n",
      "20 20\n",
      "20 20\n",
      "20 20\n",
      "20 20\n",
      "20 20\n",
      "20 20\n",
      "20 20\n",
      "15 15\n",
      "20 20\n",
      "20 20\n",
      "20 20\n",
      "20 20\n",
      "20 20\n",
      "20 20\n",
      "20 20\n",
      "20 20\n",
      "20 20\n",
      "20 20\n",
      "20 20\n",
      "20 20\n",
      "20 20\n",
      "20 20\n",
      "20 20\n",
      "20 20\n",
      "20 20\n",
      "20 20\n",
      "20 20\n",
      "20 20\n",
      "20 20\n",
      "20 20\n",
      "20 20\n",
      "20 20\n",
      "20 20\n",
      "20 20\n",
      "20 20\n",
      "20 20\n",
      "20 20\n",
      "20 20\n",
      "20 20\n",
      "20 20\n",
      "20 20\n",
      "20 20\n",
      "20 20\n",
      "19 19\n",
      "20 20\n",
      "20 20\n",
      "20 20\n",
      "20 20\n",
      "20 20\n",
      "20 20\n",
      "20 20\n",
      "20 20\n",
      "20 20\n",
      "20 20\n",
      "20 20\n",
      "20 20\n",
      "20 20\n",
      "16 16\n",
      "20 20\n",
      "20 20\n",
      "20 20\n",
      "20 20\n",
      "10 10\n",
      "20 20\n",
      "20 20\n",
      "20 20\n",
      "20 20\n",
      "20 20\n",
      "20 20\n",
      "20 20\n",
      "20 20\n",
      "20 20\n",
      "20 20\n",
      "20 20\n",
      "20 20\n",
      "20 20\n",
      "20 20\n",
      "20 20\n",
      "20 20\n",
      "20 20\n",
      "20 20\n",
      "20 20\n",
      "20 20\n",
      "20 20\n",
      "20 20\n",
      "15 15\n",
      "20 20\n",
      "20 20\n",
      "20 20\n",
      "20 20\n",
      "20 20\n",
      "20 20\n",
      "20 20\n",
      "20 20\n",
      "20 20\n",
      "20 20\n",
      "20 20\n",
      "20 20\n",
      "20 20\n",
      "20 20\n",
      "20 20\n",
      "20 20\n",
      "20 20\n",
      "20 20\n",
      "20 20\n",
      "20 20\n",
      "20 20\n",
      "20 20\n",
      "20 20\n",
      "20 20\n",
      "20 20\n",
      "20 20\n",
      "20 20\n",
      "20 20\n",
      "20 20\n",
      "20 20\n",
      "20 20\n",
      "20 20\n",
      "20 20\n",
      "20 20\n",
      "20 20\n",
      "19 19\n",
      "20 20\n",
      "20 20\n",
      "20 20\n",
      "20 20\n",
      "20 20\n",
      "20 20\n"
     ]
    }
   ],
   "source": [
    "df['evergreen'] = df['text'].map(lambda x: get_multiple_similarity(x,x, evergreen_sbert))\n",
    "df['kcbert'] = df['text'].map(lambda x: get_multiple_similarity(x,x, kcbert_sbert))"
   ]
  },
  {
   "cell_type": "code",
   "execution_count": 23,
   "metadata": {},
   "outputs": [
    {
     "data": {
      "text/html": [
       "<div>\n",
       "<style scoped>\n",
       "    .dataframe tbody tr th:only-of-type {\n",
       "        vertical-align: middle;\n",
       "    }\n",
       "\n",
       "    .dataframe tbody tr th {\n",
       "        vertical-align: top;\n",
       "    }\n",
       "\n",
       "    .dataframe thead th {\n",
       "        text-align: right;\n",
       "    }\n",
       "</style>\n",
       "<table border=\"1\" class=\"dataframe\">\n",
       "  <thead>\n",
       "    <tr style=\"text-align: right;\">\n",
       "      <th></th>\n",
       "      <th>text</th>\n",
       "      <th>evergreen</th>\n",
       "      <th>kcbert</th>\n",
       "    </tr>\n",
       "  </thead>\n",
       "  <tbody>\n",
       "    <tr>\n",
       "      <th>0</th>\n",
       "      <td>일어낫다</td>\n",
       "      <td>0.472729</td>\n",
       "      <td>0.509837</td>\n",
       "    </tr>\n",
       "    <tr>\n",
       "      <th>1</th>\n",
       "      <td>원더케이</td>\n",
       "      <td>0.541915</td>\n",
       "      <td>0.591731</td>\n",
       "    </tr>\n",
       "    <tr>\n",
       "      <th>2</th>\n",
       "      <td>강다니엘</td>\n",
       "      <td>0.524014</td>\n",
       "      <td>0.524014</td>\n",
       "    </tr>\n",
       "    <tr>\n",
       "      <th>3</th>\n",
       "      <td>자이언츠</td>\n",
       "      <td>0.484593</td>\n",
       "      <td>0.553775</td>\n",
       "    </tr>\n",
       "    <tr>\n",
       "      <th>4</th>\n",
       "      <td>프리허그</td>\n",
       "      <td>0.484628</td>\n",
       "      <td>0.553347</td>\n",
       "    </tr>\n",
       "  </tbody>\n",
       "</table>\n",
       "</div>"
      ],
      "text/plain": [
       "   text  evergreen    kcbert\n",
       "0  일어낫다   0.472729  0.509837\n",
       "1  원더케이   0.541915  0.591731\n",
       "2  강다니엘   0.524014  0.524014\n",
       "3  자이언츠   0.484593  0.553775\n",
       "4  프리허그   0.484628  0.553347"
      ]
     },
     "execution_count": 23,
     "metadata": {},
     "output_type": "execute_result"
    }
   ],
   "source": [
    "df.head()"
   ]
  },
  {
   "cell_type": "code",
   "execution_count": 24,
   "metadata": {},
   "outputs": [
    {
     "data": {
      "text/html": [
       "<div>\n",
       "<style scoped>\n",
       "    .dataframe tbody tr th:only-of-type {\n",
       "        vertical-align: middle;\n",
       "    }\n",
       "\n",
       "    .dataframe tbody tr th {\n",
       "        vertical-align: top;\n",
       "    }\n",
       "\n",
       "    .dataframe thead th {\n",
       "        text-align: right;\n",
       "    }\n",
       "</style>\n",
       "<table border=\"1\" class=\"dataframe\">\n",
       "  <thead>\n",
       "    <tr style=\"text-align: right;\">\n",
       "      <th></th>\n",
       "      <th>index</th>\n",
       "      <th>text</th>\n",
       "      <th>evergreen</th>\n",
       "      <th>kcbert</th>\n",
       "    </tr>\n",
       "  </thead>\n",
       "  <tbody>\n",
       "    <tr>\n",
       "      <th>0</th>\n",
       "      <td>0</td>\n",
       "      <td>펜트하우스</td>\n",
       "      <td>0.435047</td>\n",
       "      <td>0.558093</td>\n",
       "    </tr>\n",
       "    <tr>\n",
       "      <th>1</th>\n",
       "      <td>1</td>\n",
       "      <td>아웃카운트</td>\n",
       "      <td>0.454976</td>\n",
       "      <td>0.546227</td>\n",
       "    </tr>\n",
       "    <tr>\n",
       "      <th>2</th>\n",
       "      <td>2</td>\n",
       "      <td>사운드트랙</td>\n",
       "      <td>0.459666</td>\n",
       "      <td>0.511467</td>\n",
       "    </tr>\n",
       "    <tr>\n",
       "      <th>3</th>\n",
       "      <td>3</td>\n",
       "      <td>기습공격</td>\n",
       "      <td>0.461756</td>\n",
       "      <td>0.505856</td>\n",
       "    </tr>\n",
       "    <tr>\n",
       "      <th>4</th>\n",
       "      <td>4</td>\n",
       "      <td>대면팬싸</td>\n",
       "      <td>0.463688</td>\n",
       "      <td>0.521959</td>\n",
       "    </tr>\n",
       "  </tbody>\n",
       "</table>\n",
       "</div>"
      ],
      "text/plain": [
       "   index   text  evergreen    kcbert\n",
       "0      0  펜트하우스   0.435047  0.558093\n",
       "1      1  아웃카운트   0.454976  0.546227\n",
       "2      2  사운드트랙   0.459666  0.511467\n",
       "3      3   기습공격   0.461756  0.505856\n",
       "4      4   대면팬싸   0.463688  0.521959"
      ]
     },
     "execution_count": 24,
     "metadata": {},
     "output_type": "execute_result"
    }
   ],
   "source": [
    "df_idx = df.sort_values('evergreen').reset_index().drop('index', axis=1).reset_index()\n",
    "df_idx.head()"
   ]
  },
  {
   "cell_type": "code",
   "execution_count": 25,
   "metadata": {},
   "outputs": [
    {
     "data": {
      "text/plain": [
       "<matplotlib.legend.Legend at 0x7fbd44a3fe20>"
      ]
     },
     "execution_count": 25,
     "metadata": {},
     "output_type": "execute_result"
    },
    {
     "data": {
      "image/png": "[encoded data removed]",
      "text/plain": [
       "<Figure size 1800x1200 with 1 Axes>"
      ]
     },
     "metadata": {
      "needs_background": "light"
     },
     "output_type": "display_data"
    }
   ],
   "source": [
    "import matplotlib.pylab as plt\n",
    "plt.rcParams[\"figure.dpi\"] = 300\n",
    "\n",
    "ax = df_idx.plot(kind='scatter', x='index', y='evergreen', color='orange', alpha=0.8)\n",
    "df_idx.plot(kind='scatter', x='index', y='kcbert', color='blue',  alpha=0.5, ax=ax, marker='x')\n",
    "ax.legend(['evergreen', 'kcbert'])"
   ]
  },
  {
   "cell_type": "code",
   "execution_count": null,
   "metadata": {},
   "outputs": [],
   "source": []
  }
 ],
 "metadata": {
  "kernelspec": {
   "display_name": "evergreenbert",
   "language": "python",
   "name": "evergreenbert"
  },
  "language_info": {
   "codemirror_mode": {
    "name": "ipython",
    "version": 3
   },
   "file_extension": ".py",
   "mimetype": "text/x-python",
   "name": "python",
   "nbconvert_exporter": "python",
   "pygments_lexer": "ipython3",
   "version": "3.8.10"
  }
 },
 "nbformat": 4,
 "nbformat_minor": 4
}
